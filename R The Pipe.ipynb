{
 "cells": [
  {
   "cell_type": "code",
   "execution_count": 1,
   "id": "3897ed93",
   "metadata": {},
   "outputs": [
    {
     "name": "stderr",
     "output_type": "stream",
     "text": [
      "── \u001b[1mAttaching core tidyverse packages\u001b[22m ──────────────────────────────────────────────────────────────── tidyverse 2.0.0 ──\n",
      "\u001b[32m✔\u001b[39m \u001b[34mdplyr    \u001b[39m 1.1.2     \u001b[32m✔\u001b[39m \u001b[34mreadr    \u001b[39m 2.1.4\n",
      "\u001b[32m✔\u001b[39m \u001b[34mforcats  \u001b[39m 1.0.0     \u001b[32m✔\u001b[39m \u001b[34mstringr  \u001b[39m 1.5.0\n",
      "\u001b[32m✔\u001b[39m \u001b[34mggplot2  \u001b[39m 3.4.2     \u001b[32m✔\u001b[39m \u001b[34mtibble   \u001b[39m 3.2.1\n",
      "\u001b[32m✔\u001b[39m \u001b[34mlubridate\u001b[39m 1.9.2     \u001b[32m✔\u001b[39m \u001b[34mtidyr    \u001b[39m 1.3.0\n",
      "\u001b[32m✔\u001b[39m \u001b[34mpurrr    \u001b[39m 1.0.1     \n",
      "── \u001b[1mConflicts\u001b[22m ────────────────────────────────────────────────────────────────────────────────── tidyverse_conflicts() ──\n",
      "\u001b[31m✖\u001b[39m \u001b[34mdplyr\u001b[39m::\u001b[32mfilter()\u001b[39m masks \u001b[34mstats\u001b[39m::filter()\n",
      "\u001b[31m✖\u001b[39m \u001b[34mdplyr\u001b[39m::\u001b[32mlag()\u001b[39m    masks \u001b[34mstats\u001b[39m::lag()\n",
      "\u001b[36mℹ\u001b[39m Use the conflicted package (\u001b[3m\u001b[34m<http://conflicted.r-lib.org/>\u001b[39m\u001b[23m) to force all conflicts to become errors\n"
     ]
    }
   ],
   "source": [
    "options(warning=F)\n",
    "library(tidyverse)"
   ]
  },
  {
   "cell_type": "code",
   "execution_count": 2,
   "id": "4ecf4e9a",
   "metadata": {},
   "outputs": [
    {
     "data": {
      "text/html": [
       "<table class=\"dataframe\">\n",
       "<caption>A data.frame: 11 × 5</caption>\n",
       "<thead>\n",
       "\t<tr><th scope=col>model</th><th scope=col>wt</th><th scope=col>cyl</th><th scope=col>mpg</th><th scope=col>CPW</th></tr>\n",
       "\t<tr><th scope=col>&lt;chr&gt;</th><th scope=col>&lt;dbl&gt;</th><th scope=col>&lt;chr&gt;</th><th scope=col>&lt;dbl&gt;</th><th scope=col>&lt;dbl&gt;</th></tr>\n",
       "</thead>\n",
       "<tbody>\n",
       "\t<tr><td>Toyota Corolla</td><td>1.835</td><td>4</td><td>33.9</td><td>18.474114</td></tr>\n",
       "\t<tr><td>Fiat 128      </td><td>2.200</td><td>4</td><td>32.4</td><td>14.727273</td></tr>\n",
       "\t<tr><td>Honda Civic   </td><td>1.615</td><td>4</td><td>30.4</td><td>18.823529</td></tr>\n",
       "\t<tr><td>Lotus Europa  </td><td>1.513</td><td>4</td><td>30.4</td><td>20.092531</td></tr>\n",
       "\t<tr><td>Fiat X1-9     </td><td>1.935</td><td>4</td><td>27.3</td><td>14.108527</td></tr>\n",
       "\t<tr><td>Porsche 914-2 </td><td>2.140</td><td>4</td><td>26.0</td><td>12.149533</td></tr>\n",
       "\t<tr><td>Merc 240D     </td><td>3.190</td><td>4</td><td>24.4</td><td> 7.648903</td></tr>\n",
       "\t<tr><td>Datsun 710    </td><td>2.320</td><td>4</td><td>22.8</td><td> 9.827586</td></tr>\n",
       "\t<tr><td>Merc 230      </td><td>3.150</td><td>4</td><td>22.8</td><td> 7.238095</td></tr>\n",
       "\t<tr><td>Toyota Corona </td><td>2.465</td><td>4</td><td>21.5</td><td> 8.722110</td></tr>\n",
       "\t<tr><td>Volvo 142E    </td><td>2.780</td><td>4</td><td>21.4</td><td> 7.697842</td></tr>\n",
       "</tbody>\n",
       "</table>\n"
      ],
      "text/latex": [
       "A data.frame: 11 × 5\n",
       "\\begin{tabular}{lllll}\n",
       " model & wt & cyl & mpg & CPW\\\\\n",
       " <chr> & <dbl> & <chr> & <dbl> & <dbl>\\\\\n",
       "\\hline\n",
       "\t Toyota Corolla & 1.835 & 4 & 33.9 & 18.474114\\\\\n",
       "\t Fiat 128       & 2.200 & 4 & 32.4 & 14.727273\\\\\n",
       "\t Honda Civic    & 1.615 & 4 & 30.4 & 18.823529\\\\\n",
       "\t Lotus Europa   & 1.513 & 4 & 30.4 & 20.092531\\\\\n",
       "\t Fiat X1-9      & 1.935 & 4 & 27.3 & 14.108527\\\\\n",
       "\t Porsche 914-2  & 2.140 & 4 & 26.0 & 12.149533\\\\\n",
       "\t Merc 240D      & 3.190 & 4 & 24.4 &  7.648903\\\\\n",
       "\t Datsun 710     & 2.320 & 4 & 22.8 &  9.827586\\\\\n",
       "\t Merc 230       & 3.150 & 4 & 22.8 &  7.238095\\\\\n",
       "\t Toyota Corona  & 2.465 & 4 & 21.5 &  8.722110\\\\\n",
       "\t Volvo 142E     & 2.780 & 4 & 21.4 &  7.697842\\\\\n",
       "\\end{tabular}\n"
      ],
      "text/markdown": [
       "\n",
       "A data.frame: 11 × 5\n",
       "\n",
       "| model &lt;chr&gt; | wt &lt;dbl&gt; | cyl &lt;chr&gt; | mpg &lt;dbl&gt; | CPW &lt;dbl&gt; |\n",
       "|---|---|---|---|---|\n",
       "| Toyota Corolla | 1.835 | 4 | 33.9 | 18.474114 |\n",
       "| Fiat 128       | 2.200 | 4 | 32.4 | 14.727273 |\n",
       "| Honda Civic    | 1.615 | 4 | 30.4 | 18.823529 |\n",
       "| Lotus Europa   | 1.513 | 4 | 30.4 | 20.092531 |\n",
       "| Fiat X1-9      | 1.935 | 4 | 27.3 | 14.108527 |\n",
       "| Porsche 914-2  | 2.140 | 4 | 26.0 | 12.149533 |\n",
       "| Merc 240D      | 3.190 | 4 | 24.4 |  7.648903 |\n",
       "| Datsun 710     | 2.320 | 4 | 22.8 |  9.827586 |\n",
       "| Merc 230       | 3.150 | 4 | 22.8 |  7.238095 |\n",
       "| Toyota Corona  | 2.465 | 4 | 21.5 |  8.722110 |\n",
       "| Volvo 142E     | 2.780 | 4 | 21.4 |  7.697842 |\n",
       "\n"
      ],
      "text/plain": [
       "   model          wt    cyl mpg  CPW      \n",
       "1  Toyota Corolla 1.835 4   33.9 18.474114\n",
       "2  Fiat 128       2.200 4   32.4 14.727273\n",
       "3  Honda Civic    1.615 4   30.4 18.823529\n",
       "4  Lotus Europa   1.513 4   30.4 20.092531\n",
       "5  Fiat X1-9      1.935 4   27.3 14.108527\n",
       "6  Porsche 914-2  2.140 4   26.0 12.149533\n",
       "7  Merc 240D      3.190 4   24.4  7.648903\n",
       "8  Datsun 710     2.320 4   22.8  9.827586\n",
       "9  Merc 230       3.150 4   22.8  7.238095\n",
       "10 Toyota Corona  2.465 4   21.5  8.722110\n",
       "11 Volvo 142E     2.780 4   21.4  7.697842"
      ]
     },
     "metadata": {},
     "output_type": "display_data"
    }
   ],
   "source": [
    "mtcars %>%  rownames_to_column(\"model\") %>% \n",
    "            mutate(cyl = as.character(cyl)) %>% \n",
    "            filter(cyl == 4) %>% \n",
    "            select(model,wt,cyl,mpg) %>%\n",
    "            mutate(CPW = mpg/wt) %>%\n",
    "            arrange(desc(mpg))"
   ]
  }
 ],
 "metadata": {
  "kernelspec": {
   "display_name": "R",
   "language": "R",
   "name": "ir"
  },
  "language_info": {
   "codemirror_mode": "r",
   "file_extension": ".r",
   "mimetype": "text/x-r-source",
   "name": "R",
   "pygments_lexer": "r",
   "version": "4.1.2"
  }
 },
 "nbformat": 4,
 "nbformat_minor": 5
}
